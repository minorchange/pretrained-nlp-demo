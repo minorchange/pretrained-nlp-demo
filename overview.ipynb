{
 "cells": [
  {
   "cell_type": "code",
   "execution_count": 5,
   "metadata": {},
   "outputs": [],
   "source": [
    "from nlp_tasks.text_similarity.ts import similarity_matrix, visualize_similarities\n",
    "from nlp_tasks.text2image.t2i import generate_image\n",
    "from nlp_tasks.translation.tl import translate\n",
    "from nlp_tasks.named_entity_recognition.ner import named_entity_recognition\n",
    "from nlp_tasks.zero_shot_classification.zsc import zs_class\n",
    "from nlp_tasks.language_detection.ld import detect_language\n",
    "from nlp_tasks.summarization.sum import summarize"
   ]
  },
  {
   "cell_type": "code",
   "execution_count": 6,
   "metadata": {},
   "outputs": [],
   "source": [
    "text = \"Das ist das Haus vom Nikolaus. Und nebenan das Haus vom Weihnachtsmann. Es hat große Fenster und einen Balkon. Hubert wohnt auch hier am Nordpol in direkter Nachbarschaft. Hubert ist bei der Winterweihnachtswunder GmbH angestellt.\""
   ]
  },
  {
   "cell_type": "code",
   "execution_count": 7,
   "metadata": {},
   "outputs": [
    {
     "name": "stdout",
     "output_type": "stream",
     "text": [
      "('de', 0.9936065673828125)\n"
     ]
    }
   ],
   "source": [
    "l = detect_language(text)\n",
    "print(l)\n",
    "assert l[0] == \"de\", \"models are partly multilingual, partly german only. Make sure you know what the models are capable of before you continue :)\""
   ]
  },
  {
   "cell_type": "code",
   "execution_count": 8,
   "metadata": {},
   "outputs": [
    {
     "data": {
      "text/html": [
       "<div>\n",
       "<style scoped>\n",
       "    .dataframe tbody tr th:only-of-type {\n",
       "        vertical-align: middle;\n",
       "    }\n",
       "\n",
       "    .dataframe tbody tr th {\n",
       "        vertical-align: top;\n",
       "    }\n",
       "\n",
       "    .dataframe thead th {\n",
       "        text-align: right;\n",
       "    }\n",
       "</style>\n",
       "<table border=\"1\" class=\"dataframe\">\n",
       "  <thead>\n",
       "    <tr style=\"text-align: right;\">\n",
       "      <th></th>\n",
       "      <th>labels</th>\n",
       "      <th>scores</th>\n",
       "    </tr>\n",
       "  </thead>\n",
       "  <tbody>\n",
       "    <tr>\n",
       "      <th>0</th>\n",
       "      <td>Weihnachten</td>\n",
       "      <td>0.586354</td>\n",
       "    </tr>\n",
       "    <tr>\n",
       "      <th>1</th>\n",
       "      <td>Architektur</td>\n",
       "      <td>0.410380</td>\n",
       "    </tr>\n",
       "    <tr>\n",
       "      <th>2</th>\n",
       "      <td>Grmüse</td>\n",
       "      <td>0.001913</td>\n",
       "    </tr>\n",
       "    <tr>\n",
       "      <th>3</th>\n",
       "      <td>Technikfolgenabschätzung</td>\n",
       "      <td>0.000755</td>\n",
       "    </tr>\n",
       "    <tr>\n",
       "      <th>4</th>\n",
       "      <td>Ostern</td>\n",
       "      <td>0.000599</td>\n",
       "    </tr>\n",
       "  </tbody>\n",
       "</table>\n",
       "</div>"
      ],
      "text/plain": [
       "                     labels    scores\n",
       "0               Weihnachten  0.586354\n",
       "1               Architektur  0.410380\n",
       "2                    Grmüse  0.001913\n",
       "3  Technikfolgenabschätzung  0.000755\n",
       "4                    Ostern  0.000599"
      ]
     },
     "execution_count": 8,
     "metadata": {},
     "output_type": "execute_result"
    }
   ],
   "source": [
    "candidate_labels = [\"Weihnachten\", \"Ostern\", \"Architektur\", \"Grmüse\", \"Technikfolgenabschätzung\"]\n",
    "zs_class(candidate_labels, text)"
   ]
  },
  {
   "cell_type": "code",
   "execution_count": 9,
   "metadata": {},
   "outputs": [
    {
     "name": "stdout",
     "output_type": "stream",
     "text": [
      "       Ort     Score\n",
      "0  Nordpol  0.994388\n",
      "   Person     Score\n",
      "0  Hubert  0.999437\n",
      "1  Hubert  0.999502\n",
      "                  Organisation    Score\n",
      "0  Winterweihnachtswunder GmbH  0.99981\n"
     ]
    }
   ],
   "source": [
    "l, p, o = named_entity_recognition(text)\n",
    "print(l)\n",
    "print(p)\n",
    "print(o)"
   ]
  },
  {
   "cell_type": "code",
   "execution_count": 12,
   "metadata": {},
   "outputs": [
    {
     "data": {
      "text/plain": [
       "'Haus vom Nikolaus und Weihnachtsmann'"
      ]
     },
     "execution_count": 12,
     "metadata": {},
     "output_type": "execute_result"
    }
   ],
   "source": [
    "sum_de = summarize(text)\n",
    "sum_de"
   ]
  },
  {
   "cell_type": "code",
   "execution_count": 13,
   "metadata": {},
   "outputs": [
    {
     "name": "stdout",
     "output_type": "stream",
     "text": [
      "This is the house of Santa Claus. And next door the house of Santa Claus. It has large windows and a balcony. Hubert also lives here at the North Pole in the immediate vicinity. Hubert is employed by Winter Weihnachtswunder GmbH.\n",
      "\n",
      "House of Santa Claus and Santa Claus\n",
      "\n",
      "C'est la maison de Nikolaus. Et à côté de la maison du Père Noël. Il a de grandes fenêtres et un balcon. Hubert habite ici aussi au pôle Nord dans le voisinage direct. Hubert est employé à Winterwehnachtsmirder GmbH.\n"
     ]
    }
   ],
   "source": [
    "text_en = translate(\"de\", \"en\", text)\n",
    "sum_en = translate(\"de\", \"en\", sum_de)\n",
    "text_fr = translate(\"de\", \"fr\", text)\n",
    "print(text_en)\n",
    "print()\n",
    "print(sum_en)\n",
    "print()\n",
    "print(text_fr)"
   ]
  },
  {
   "cell_type": "code",
   "execution_count": 14,
   "metadata": {},
   "outputs": [
    {
     "name": "stderr",
     "output_type": "stream",
     "text": [
      "Fetching 15 files: 100%|██████████| 15/15 [00:00<00:00, 1104.77it/s]\n",
      "100%|██████████| 51/51 [51:05<00:00, 60.11s/it]   \n"
     ]
    },
    {
     "ename": "FileNotFoundError",
     "evalue": "[Errno 2] No such file or directory: 'generated_images/house_of_santa_claus_and_santa_claus_8256f.png'",
     "output_type": "error",
     "traceback": [
      "\u001b[0;31m---------------------------------------------------------------------------\u001b[0m",
      "\u001b[0;31mFileNotFoundError\u001b[0m                         Traceback (most recent call last)",
      "Cell \u001b[0;32mIn [14], line 4\u001b[0m\n\u001b[1;32m      1\u001b[0m \u001b[38;5;28;01mfrom\u001b[39;00m \u001b[38;5;21;01mIPython\u001b[39;00m\u001b[38;5;21;01m.\u001b[39;00m\u001b[38;5;21;01mdisplay\u001b[39;00m \u001b[38;5;28;01mimport\u001b[39;00m Image\n\u001b[1;32m      3\u001b[0m text \u001b[38;5;241m=\u001b[39m sum_en\n\u001b[0;32m----> 4\u001b[0m img_path \u001b[38;5;241m=\u001b[39m \u001b[43mgenerate_image\u001b[49m\u001b[43m(\u001b[49m\u001b[43mtext\u001b[49m\u001b[43m)\u001b[49m\n\u001b[1;32m      6\u001b[0m Image(filename\u001b[38;5;241m=\u001b[39mimg_path)\n",
      "File \u001b[0;32m~/src/pretrained-nlp-demo/nlp_tasks/text2image/t2i.py:38\u001b[0m, in \u001b[0;36mgenerate_image\u001b[0;34m(text)\u001b[0m\n\u001b[1;32m     36\u001b[0m     pipe \u001b[39m=\u001b[39m pipe\u001b[39m.\u001b[39mto(\u001b[39m\"\u001b[39m\u001b[39mcpu\u001b[39m\u001b[39m\"\u001b[39m)\n\u001b[1;32m     37\u001b[0m     image \u001b[39m=\u001b[39m pipe(text)\u001b[39m.\u001b[39mimages[\u001b[39m0\u001b[39m]\n\u001b[0;32m---> 38\u001b[0m     image\u001b[39m.\u001b[39;49msave(img_path)\n\u001b[1;32m     39\u001b[0m \u001b[39mreturn\u001b[39;00m(img_path)\n",
      "File \u001b[0;32m~/anaconda3/envs/transformer-v3/lib/python3.9/site-packages/PIL/Image.py:2209\u001b[0m, in \u001b[0;36mImage.save\u001b[0;34m(self, fp, format, **params)\u001b[0m\n\u001b[1;32m   2207\u001b[0m         fp \u001b[39m=\u001b[39m builtins\u001b[39m.\u001b[39mopen(filename, \u001b[39m\"\u001b[39m\u001b[39mr+b\u001b[39m\u001b[39m\"\u001b[39m)\n\u001b[1;32m   2208\u001b[0m     \u001b[39melse\u001b[39;00m:\n\u001b[0;32m-> 2209\u001b[0m         fp \u001b[39m=\u001b[39m builtins\u001b[39m.\u001b[39;49mopen(filename, \u001b[39m\"\u001b[39;49m\u001b[39mw+b\u001b[39;49m\u001b[39m\"\u001b[39;49m)\n\u001b[1;32m   2211\u001b[0m \u001b[39mtry\u001b[39;00m:\n\u001b[1;32m   2212\u001b[0m     save_handler(\u001b[39mself\u001b[39m, fp, filename)\n",
      "\u001b[0;31mFileNotFoundError\u001b[0m: [Errno 2] No such file or directory: 'generated_images/house_of_santa_claus_and_santa_claus_8256f.png'"
     ]
    }
   ],
   "source": [
    "from IPython.display import Image\n",
    "\n",
    "text = sum_en\n",
    "img_path = generate_image(text)\n",
    "\n",
    "Image(filename=img_path) "
   ]
  },
  {
   "cell_type": "code",
   "execution_count": 10,
   "metadata": {},
   "outputs": [
    {
     "name": "stdout",
     "output_type": "stream",
     "text": [
      "[[0.12586963 0.05674172 0.0557375  0.08626597]\n",
      " [0.10314295 0.00984074 0.08277045 0.07586325]\n",
      " [0.10084369 0.06740952 0.92606282 0.75211191]]\n"
     ]
    },
    {
     "data": {
      "image/png": "[encoded data removed]",
      "text/plain": [
       "<Figure size 432x288 with 1 Axes>"
      ]
     },
     "metadata": {
      "needs_background": "light"
     },
     "output_type": "display_data"
    }
   ],
   "source": [
    "\n",
    "sentences1 = [text,\n",
    "            \"Tony hat Geburtstag.\",\n",
    "            'Der neue Film ist großartig']\n",
    "\n",
    "sentences2 = ['Die Häuslichen Verhältnisse des weihnachtlichen Geschenkebringers.',\n",
    "            \"Eine Frau sieht fern\",\n",
    "            'Der neue Film ist so toll',\n",
    "            'Der neue Film ist so toll. Ich freue mich.']\n",
    "\n",
    "similarities = similarity_matrix(sentences1, sentences2)\n",
    "print(similarities)\n",
    "visualize_similarities(similarities, sentences1, sentences2)"
   ]
  }
 ],
 "metadata": {
  "kernelspec": {
   "display_name": "Python 3.9.10 ('transformer-v3')",
   "language": "python",
   "name": "python3"
  },
  "language_info": {
   "codemirror_mode": {
    "name": "ipython",
    "version": 3
   },
   "file_extension": ".py",
   "mimetype": "text/x-python",
   "name": "python",
   "nbconvert_exporter": "python",
   "pygments_lexer": "ipython3",
   "version": "3.9.10"
  },
  "orig_nbformat": 4,
  "vscode": {
   "interpreter": {
    "hash": "5754a38bffa560b9454f5eaae563a715c0e67f9127fbe0c75e74eb4e08fccabc"
   }
  }
 },
 "nbformat": 4,
 "nbformat_minor": 2
}
